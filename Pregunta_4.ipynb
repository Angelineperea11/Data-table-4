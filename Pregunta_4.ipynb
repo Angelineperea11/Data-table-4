{
  "nbformat": 4,
  "nbformat_minor": 0,
  "metadata": {
    "colab": {
      "provenance": [],
      "authorship_tag": "ABX9TyN+3+Hu/PQbH1kIcaTv9OAq",
      "include_colab_link": true
    },
    "kernelspec": {
      "name": "python3",
      "display_name": "Python 3"
    },
    "language_info": {
      "name": "python"
    }
  },
  "cells": [
    {
      "cell_type": "markdown",
      "metadata": {
        "id": "view-in-github",
        "colab_type": "text"
      },
      "source": [
        "<a href=\"https://colab.research.google.com/github/Angelineperea11/Data-table-4/blob/main/Pregunta_4.ipynb\" target=\"_parent\"><img src=\"https://colab.research.google.com/assets/colab-badge.svg\" alt=\"Open In Colab\"/></a>"
      ]
    },
    {
      "cell_type": "code",
      "execution_count": null,
      "metadata": {
        "id": "Bq1RpKvN1sb-"
      },
      "outputs": [],
      "source": [
        "import csv"
      ]
    },
    {
      "cell_type": "code",
      "source": [
        "datos = [(1, 2), (2, 4), (5, 6), (4, 6), (8, 10)]\n",
        "\n",
        "ruta_csv = \"valores.csv\"\n",
        "\n",
        "with open(ruta_csv, 'w', newline='') as archivo_csv:\n",
        "    writer = csv.writer(archivo_csv)\n",
        "    writer.writerow(['x', 'y'])\n",
        "    writer.writerows(datos)"
      ],
      "metadata": {
        "id": "JqtT2jyv3G6Q"
      },
      "execution_count": null,
      "outputs": []
    }
  ]
}